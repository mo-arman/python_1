{
 "cells": [
  {
   "cell_type": "markdown",
   "id": "9022f8fb",
   "metadata": {},
   "source": [
    "## OPERATORS IN PYTHON\n",
    "- Arithmetic Operators\n",
    "- Assignment Operators\n",
    "- Comparison Operators\n",
    "- Logical Operators\n",
    "- Identity Operators\n",
    "- Membership Operators\n",
    "- Bitwise Operators"
   ]
  },
  {
   "cell_type": "code",
   "execution_count": 3,
   "id": "1b50d1ff",
   "metadata": {},
   "outputs": [
    {
     "data": {
      "text/plain": [
       "\"What's Up? What's Up? What's Up? What's Up? What's Up? What's Up? What's Up? What's Up? What's Up? What's Up? \""
      ]
     },
     "execution_count": 3,
     "metadata": {},
     "output_type": "execute_result"
    }
   ],
   "source": [
    "## Arithemtic Operator\n",
    "\"What's Up? \"  * 10"
   ]
  },
  {
   "cell_type": "code",
   "execution_count": 4,
   "id": "e0826da1",
   "metadata": {},
   "outputs": [
    {
     "data": {
      "text/plain": [
       "\"Whta's up?\""
      ]
     },
     "execution_count": 4,
     "metadata": {},
     "output_type": "execute_result"
    }
   ],
   "source": [
    "\"Whta's \" + \"up?\""
   ]
  },
  {
   "cell_type": "code",
   "execution_count": 5,
   "id": "2b3452ff",
   "metadata": {},
   "outputs": [
    {
     "data": {
      "text/plain": [
       "'Data Nerd Data Nerd Data Nerd Data Nerd Data Nerd Data Nerd Data Nerd Data Nerd Data Nerd Data Nerd '"
      ]
     },
     "execution_count": 5,
     "metadata": {},
     "output_type": "execute_result"
    }
   ],
   "source": [
    "\"Data Nerd \" * 10"
   ]
  },
  {
   "cell_type": "code",
   "execution_count": 6,
   "id": "8974aa46",
   "metadata": {},
   "outputs": [
    {
     "data": {
      "text/plain": [
       "5"
      ]
     },
     "execution_count": 6,
     "metadata": {},
     "output_type": "execute_result"
    }
   ],
   "source": [
    "2+3"
   ]
  },
  {
   "cell_type": "code",
   "execution_count": 7,
   "id": "9a607969",
   "metadata": {},
   "outputs": [
    {
     "data": {
      "text/plain": [
       "2"
      ]
     },
     "execution_count": 7,
     "metadata": {},
     "output_type": "execute_result"
    }
   ],
   "source": [
    "5 // 2"
   ]
  },
  {
   "cell_type": "code",
   "execution_count": 8,
   "id": "b6a39381",
   "metadata": {},
   "outputs": [
    {
     "data": {
      "text/plain": [
       "1"
      ]
     },
     "execution_count": 8,
     "metadata": {},
     "output_type": "execute_result"
    }
   ],
   "source": [
    "5 % 2"
   ]
  },
  {
   "cell_type": "code",
   "execution_count": 9,
   "id": "e894e6b6",
   "metadata": {},
   "outputs": [
    {
     "name": "stdout",
     "output_type": "stream",
     "text": [
      "5 divided by 2 is 2 with a remainder of 1\n"
     ]
    }
   ],
   "source": [
    "print(\"5 divided by 2 is\", 5 // 2, \"with a remainder of\", 5 % 2)\n"
   ]
  },
  {
   "cell_type": "code",
   "execution_count": 11,
   "id": "c76d09df",
   "metadata": {},
   "outputs": [
    {
     "data": {
      "text/plain": [
       "50000.0"
      ]
     },
     "execution_count": 11,
     "metadata": {},
     "output_type": "execute_result"
    }
   ],
   "source": [
    "min_salary = 20_000 # _ is ignored by the interpreter\n",
    "max_salary = 80_000\n",
    "\n",
    "average_salary = (min_salary + max_salary) / 2\n",
    "\n",
    "average_salary"
   ]
  },
  {
   "cell_type": "code",
   "execution_count": 12,
   "id": "4f5bca2d",
   "metadata": {},
   "outputs": [
    {
     "name": "stdout",
     "output_type": "stream",
     "text": [
      "x is now:  2\n",
      "y is now:  1\n"
     ]
    }
   ],
   "source": [
    "x = 1\n",
    "y = 2\n",
    "\n",
    "x, y = y, x # swap values\n",
    "\n",
    "print(\"x is now: \", x)\n",
    "print(\"y is now: \", y)"
   ]
  },
  {
   "cell_type": "code",
   "execution_count": 13,
   "id": "ad69162e",
   "metadata": {},
   "outputs": [
    {
     "data": {
      "text/plain": [
       "2"
      ]
     },
     "execution_count": 13,
     "metadata": {},
     "output_type": "execute_result"
    }
   ],
   "source": [
    "x = 1 # let's increment x by 1\n",
    "\n",
    "x = x + 1 # not pythonic\n",
    "\n",
    "x"
   ]
  },
  {
   "cell_type": "code",
   "execution_count": 14,
   "id": "d42b8c0b",
   "metadata": {},
   "outputs": [
    {
     "data": {
      "text/plain": [
       "True"
      ]
     },
     "execution_count": 14,
     "metadata": {},
     "output_type": "execute_result"
    }
   ],
   "source": [
    "1 == 1"
   ]
  },
  {
   "cell_type": "code",
   "execution_count": 15,
   "id": "acb07c69",
   "metadata": {},
   "outputs": [
    {
     "data": {
      "text/plain": [
       "True"
      ]
     },
     "execution_count": 15,
     "metadata": {},
     "output_type": "execute_result"
    }
   ],
   "source": [
    "salary_kelly = 50_000\n",
    "salary_luke = 50_000\n",
    "\n",
    "# Are Luke and Kelly's salaries the same?\n",
    "salary_checker = (salary_kelly == salary_luke) # parantheses are optional\n",
    "\n",
    "salary_checker\n"
   ]
  }
 ],
 "metadata": {
  "kernelspec": {
   "display_name": "python_course",
   "language": "python",
   "name": "python3"
  },
  "language_info": {
   "codemirror_mode": {
    "name": "ipython",
    "version": 3
   },
   "file_extension": ".py",
   "mimetype": "text/x-python",
   "name": "python",
   "nbconvert_exporter": "python",
   "pygments_lexer": "ipython3",
   "version": "3.12.11"
  }
 },
 "nbformat": 4,
 "nbformat_minor": 5
}
