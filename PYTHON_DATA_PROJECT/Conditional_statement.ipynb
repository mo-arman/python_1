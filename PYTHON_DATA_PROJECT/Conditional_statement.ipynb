{
 "cells": [
  {
   "cell_type": "markdown",
   "id": "ff5d8076",
   "metadata": {},
   "source": [
    "## Conditional Statement"
   ]
  },
  {
   "cell_type": "code",
   "execution_count": 1,
   "id": "b1858e93",
   "metadata": {},
   "outputs": [
    {
     "name": "stdout",
     "output_type": "stream",
     "text": [
      "This code will always run\n"
     ]
    }
   ],
   "source": [
    "if True:\n",
    "    print(\"This code will always run\")"
   ]
  },
  {
   "cell_type": "code",
   "execution_count": 2,
   "id": "454dcc2b",
   "metadata": {},
   "outputs": [
    {
     "name": "stdout",
     "output_type": "stream",
     "text": [
      "This code will always run\n"
     ]
    }
   ],
   "source": [
    "if False:\n",
    "    print(\"This code will never run\")\n",
    "else:\n",
    "    print(\"This code will always run\")"
   ]
  },
  {
   "cell_type": "code",
   "execution_count": 3,
   "id": "2eaa5c47",
   "metadata": {},
   "outputs": [],
   "source": [
    "applicant_skill = 'sql'\n",
    "job_skill = 'sql'\n",
    "\n",
    "result = 'No Skills Match'"
   ]
  },
  {
   "cell_type": "code",
   "execution_count": 4,
   "id": "d547da97",
   "metadata": {},
   "outputs": [
    {
     "data": {
      "text/plain": [
       "'Skills Match'"
      ]
     },
     "execution_count": 4,
     "metadata": {},
     "output_type": "execute_result"
    }
   ],
   "source": [
    "if applicant_skill == job_skill:\n",
    "    result = 'Skills Match'\n",
    "\n",
    "result"
   ]
  },
  {
   "cell_type": "code",
   "execution_count": 7,
   "id": "900579ac",
   "metadata": {},
   "outputs": [],
   "source": [
    "years_experience = 3"
   ]
  },
  {
   "cell_type": "code",
   "execution_count": 8,
   "id": "89df8ccf",
   "metadata": {},
   "outputs": [
    {
     "data": {
      "text/plain": [
       "'Senior Data Analyst'"
      ]
     },
     "execution_count": 8,
     "metadata": {},
     "output_type": "execute_result"
    }
   ],
   "source": [
    "if applicant_skill == job_skill and years_experience < 2:\n",
    "    result = 'Junior Data Analyst'\n",
    "elif applicant_skill == job_skill and years_experience <= 5:\n",
    "    result = 'Senior Data Analyst'\n",
    "elif applicant_skill == job_skill and years_experience > 5:\n",
    "    result = 'Lead Data Analyst'\n",
    "\n",
    "# Print the result to see which Data Analyst position matches your qualifications\n",
    "result"
   ]
  },
  {
   "cell_type": "code",
   "execution_count": 9,
   "id": "30c04bc7",
   "metadata": {},
   "outputs": [
    {
     "data": {
      "text/plain": [
       "'Skill & Experience Match'"
      ]
     },
     "execution_count": 9,
     "metadata": {},
     "output_type": "execute_result"
    }
   ],
   "source": [
    "# Check if your desired job skill matches the required skill and if you are qualified for the position. \n",
    "if applicant_skill == job_skill and (years_experience >= 2):\n",
    "    result = 'Skill & Experience Match'\n",
    "else:\n",
    "    result = 'No Match Found'\n",
    "\n",
    "# Print the result to inform you of the outcome of your job search\n",
    "result"
   ]
  },
  {
   "cell_type": "code",
   "execution_count": 10,
   "id": "8e5230c4",
   "metadata": {},
   "outputs": [],
   "source": [
    "# With a pass it won't return an error \n",
    "if applicant_skill == job_skill:\n",
    "    pass"
   ]
  }
 ],
 "metadata": {
  "kernelspec": {
   "display_name": "python_course",
   "language": "python",
   "name": "python3"
  },
  "language_info": {
   "codemirror_mode": {
    "name": "ipython",
    "version": 3
   },
   "file_extension": ".py",
   "mimetype": "text/x-python",
   "name": "python",
   "nbconvert_exporter": "python",
   "pygments_lexer": "ipython3",
   "version": "3.12.11"
  }
 },
 "nbformat": 4,
 "nbformat_minor": 5
}
