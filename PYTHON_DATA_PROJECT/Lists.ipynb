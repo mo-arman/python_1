{
 "cells": [
  {
   "cell_type": "markdown",
   "id": "aca342fe",
   "metadata": {},
   "source": [
    "## Lists\n"
   ]
  },
  {
   "cell_type": "code",
   "execution_count": 1,
   "id": "1773b0bb",
   "metadata": {},
   "outputs": [
    {
     "data": {
      "text/plain": [
       "['sql', 'python', 'excel']"
      ]
     },
     "execution_count": 1,
     "metadata": {},
     "output_type": "execute_result"
    }
   ],
   "source": [
    "job_skills = ['sql', 'python', 'excel']\n",
    "job_skills"
   ]
  },
  {
   "cell_type": "code",
   "execution_count": 3,
   "id": "93af9a2a",
   "metadata": {},
   "outputs": [
    {
     "data": {
      "text/plain": [
       "'python'"
      ]
     },
     "execution_count": 3,
     "metadata": {},
     "output_type": "execute_result"
    }
   ],
   "source": [
    "job_skills[1]"
   ]
  },
  {
   "cell_type": "code",
   "execution_count": 4,
   "id": "dcb2e9bd",
   "metadata": {},
   "outputs": [
    {
     "data": {
      "text/plain": [
       "['sql', 'bigquery', 'excel']"
      ]
     },
     "execution_count": 4,
     "metadata": {},
     "output_type": "execute_result"
    }
   ],
   "source": [
    "job_skills[1] = 'bigquery'\n",
    "job_skills"
   ]
  },
  {
   "cell_type": "code",
   "execution_count": 5,
   "id": "f1c8d497",
   "metadata": {},
   "outputs": [
    {
     "data": {
      "text/plain": [
       "['sql', 'bigquery', 'excel', 'tableau']"
      ]
     },
     "execution_count": 5,
     "metadata": {},
     "output_type": "execute_result"
    }
   ],
   "source": [
    "job_skills.append('tableau')\n",
    "job_skills"
   ]
  },
  {
   "cell_type": "code",
   "execution_count": 6,
   "id": "e623fa35",
   "metadata": {},
   "outputs": [
    {
     "data": {
      "text/plain": [
       "4"
      ]
     },
     "execution_count": 6,
     "metadata": {},
     "output_type": "execute_result"
    }
   ],
   "source": [
    "len(job_skills)"
   ]
  },
  {
   "cell_type": "code",
   "execution_count": 7,
   "id": "52dba22b",
   "metadata": {},
   "outputs": [
    {
     "data": {
      "text/plain": [
       "['sql', 'bigquery', 'python', 'excel', 'tableau']"
      ]
     },
     "execution_count": 7,
     "metadata": {},
     "output_type": "execute_result"
    }
   ],
   "source": [
    "# Insert an item into the list\n",
    "job_skills.insert(2,'python')\n",
    "\n",
    "job_skills"
   ]
  },
  {
   "cell_type": "code",
   "execution_count": 8,
   "id": "936e3a95",
   "metadata": {},
   "outputs": [
    {
     "data": {
      "text/plain": [
       "['sql', 'python', 'excel', 'tableau']"
      ]
     },
     "execution_count": 8,
     "metadata": {},
     "output_type": "execute_result"
    }
   ],
   "source": [
    "job_skills.remove('bigquery')\n",
    "job_skills"
   ]
  },
  {
   "cell_type": "code",
   "execution_count": 9,
   "id": "e9aa0b53",
   "metadata": {},
   "outputs": [
    {
     "data": {
      "text/plain": [
       "['sql', 'python', 'excel', 'bigquery', 'tableau']"
      ]
     },
     "execution_count": 9,
     "metadata": {},
     "output_type": "execute_result"
    }
   ],
   "source": [
    "skills1 = ['sql', 'python', 'excel']\n",
    "skills2 = ['bigquery', 'tableau']\n",
    "\n",
    "skills3 = skills1 + skills2\n",
    "skills3"
   ]
  },
  {
   "cell_type": "code",
   "execution_count": 10,
   "id": "f202ee1b",
   "metadata": {},
   "outputs": [
    {
     "name": "stdout",
     "output_type": "stream",
     "text": [
      "sql\n",
      "python\n",
      "excel\n",
      "tableau\n"
     ]
    }
   ],
   "source": [
    "# Unpacking the list\n",
    "skill1, skill2, skill3, skill4 = job_skills\n",
    "\n",
    "# Printing the unpacked variables\n",
    "print(skill1)\n",
    "print(skill2)\n",
    "print(skill3)\n",
    "print(skill4)"
   ]
  }
 ],
 "metadata": {
  "kernelspec": {
   "display_name": "python_course",
   "language": "python",
   "name": "python3"
  },
  "language_info": {
   "codemirror_mode": {
    "name": "ipython",
    "version": 3
   },
   "file_extension": ".py",
   "mimetype": "text/x-python",
   "name": "python",
   "nbconvert_exporter": "python",
   "pygments_lexer": "ipython3",
   "version": "3.12.11"
  }
 },
 "nbformat": 4,
 "nbformat_minor": 5
}
