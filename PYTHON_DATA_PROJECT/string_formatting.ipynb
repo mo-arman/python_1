{
 "cells": [
  {
   "cell_type": "markdown",
   "id": "c3b23aa3",
   "metadata": {},
   "source": [
    "## String Formatting\n",
    "-- Method\tSyntax\tExample (prints \"Hello Luke\")\tDescription\n",
    "Concatenation\t'string' + variable\t'Hello ' + name\tCombines strings by directly appending them together.\n",
    "% Formatting\t'string %s' % variable\t'Hello %s' % name\tUses % as a placeholder for string substitutions.\n",
    "str.format()\t'string {}'.format(variable)\t'Hello {}'.format(name)\tUtilizes curly braces {} as placeholders for formatting.\n",
    "f-strings\tf'string {variable}'\tf'Hello {name}'\tEmbeds expressions inside string literals, prefixed with f.\n",
    "join()\t'separator'.join([string, variable])\t', '.join(['Hello', name])\tJoins a list of strings into a single string with a separator.\n",
    "For our examples we'll be printing out a role and/or skill."
   ]
  },
  {
   "cell_type": "code",
   "execution_count": 1,
   "id": "fe192230",
   "metadata": {},
   "outputs": [],
   "source": [
    "role = 'Data Analayst'\n",
    "skill = 'python'\n"
   ]
  },
  {
   "cell_type": "markdown",
   "id": "82e0e08f",
   "metadata": {},
   "source": [
    "## Types\n",
    "- Concatenation +\n",
    "Concatenation involves combining strings with the + operator.\n",
    "It's straightforward but not as flexible as other methods for complex formatting."
   ]
  },
  {
   "cell_type": "code",
   "execution_count": 2,
   "id": "0de01777",
   "metadata": {},
   "outputs": [
    {
     "data": {
      "text/plain": [
       "'Role:Data Analayst'"
      ]
     },
     "execution_count": 2,
     "metadata": {},
     "output_type": "execute_result"
    }
   ],
   "source": [
    "'Role:' + role"
   ]
  },
  {
   "cell_type": "code",
   "execution_count": 3,
   "id": "00a34e17",
   "metadata": {},
   "outputs": [
    {
     "data": {
      "text/plain": [
       "'Role: Data Analayst, Skill required: python'"
      ]
     },
     "execution_count": 3,
     "metadata": {},
     "output_type": "execute_result"
    }
   ],
   "source": [
    "## %-formatting (Not Preferred)\n",
    "'Role: %s, Skill required: %s'%(role,skill)"
   ]
  },
  {
   "cell_type": "markdown",
   "id": "c49a063d",
   "metadata": {},
   "source": [
    "## f-Strings (Formatted String Literals - Preferred)\n",
    "Use f-strings by prefixing a string with f and placing variables or expressions in {} braces directly within the string.\n",
    "They are both concise and efficient."
   ]
  },
  {
   "cell_type": "code",
   "execution_count": 5,
   "id": "cf4973bb",
   "metadata": {},
   "outputs": [
    {
     "data": {
      "text/plain": [
       "'Role: Data Analayst, skill required: python'"
      ]
     },
     "execution_count": 5,
     "metadata": {},
     "output_type": "execute_result"
    }
   ],
   "source": [
    "f'Role: {role}, skill required: {skill}'"
   ]
  },
  {
   "cell_type": "markdown",
   "id": "2bf5a6cc",
   "metadata": {},
   "source": [
    "## str.format()\n",
    "The str.format() method uses curly braces {} as placeholders. It's more flexible than %-formatting and allows for reordering and reuse of arguments."
   ]
  },
  {
   "cell_type": "code",
   "execution_count": 6,
   "id": "37e20529",
   "metadata": {},
   "outputs": [
    {
     "data": {
      "text/plain": [
       "'Role: Data Analayst, Skill required: python'"
      ]
     },
     "execution_count": 6,
     "metadata": {},
     "output_type": "execute_result"
    }
   ],
   "source": [
    "'Role: {}, Skill required: {}'.format(role, skill)"
   ]
  },
  {
   "cell_type": "markdown",
   "id": "71d4fdc4",
   "metadata": {},
   "source": [
    "### USING JOIN "
   ]
  },
  {
   "cell_type": "code",
   "execution_count": 7,
   "id": "4c0d3481",
   "metadata": {},
   "outputs": [
    {
     "data": {
      "text/plain": [
       "'0,1,2,3,4,5,6,7,8,9'"
      ]
     },
     "execution_count": 7,
     "metadata": {},
     "output_type": "execute_result"
    }
   ],
   "source": [
    "years_experience = '0123456789'\n",
    "','.join(years_experience)"
   ]
  },
  {
   "cell_type": "code",
   "execution_count": 8,
   "id": "05f59100",
   "metadata": {},
   "outputs": [
    {
     "data": {
      "text/plain": [
       "'Role: Data Analayst, Skills required: Python, SQL'"
      ]
     },
     "execution_count": 8,
     "metadata": {},
     "output_type": "execute_result"
    }
   ],
   "source": [
    "skills = ['Python', 'SQL']\n",
    "'Role: ' + role + ', Skills required: ' + ', '.join(skills)"
   ]
  }
 ],
 "metadata": {
  "kernelspec": {
   "display_name": "python_course",
   "language": "python",
   "name": "python3"
  },
  "language_info": {
   "codemirror_mode": {
    "name": "ipython",
    "version": 3
   },
   "file_extension": ".py",
   "mimetype": "text/x-python",
   "name": "python",
   "nbconvert_exporter": "python",
   "pygments_lexer": "ipython3",
   "version": "3.12.11"
  }
 },
 "nbformat": 4,
 "nbformat_minor": 5
}
